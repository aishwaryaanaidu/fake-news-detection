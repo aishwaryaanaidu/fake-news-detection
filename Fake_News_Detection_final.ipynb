{
  "cells": [
    {
      "cell_type": "markdown",
      "metadata": {
        "id": "N3VGgDHz2oYi"
      },
      "source": [
        "#Import packages used in the project"
      ]
    },
    {
      "cell_type": "code",
      "execution_count": null,
      "metadata": {
        "id": "4kzwO0kad4Xv"
      },
      "outputs": [],
      "source": [
        "import pandas as pd\n",
        "from nltk.corpus import stopwords\n",
        "from nltk.stem.porter import PorterStemmer\n",
        "import re\n",
        "import nltk\n",
        "from sklearn.feature_extraction.text import CountVectorizer\n",
        "from sklearn.feature_extraction.text import HashingVectorizer\n",
        "import matplotlib.pyplot as plt\n",
        "from sklearn.model_selection import train_test_split\n",
        "from sklearn.feature_extraction.text import TfidfVectorizer\n",
        "from sklearn.linear_model import LogisticRegression\n",
        "from sklearn.metrics import accuracy_score"
      ]
    },
    {
      "cell_type": "markdown",
      "metadata": {
        "id": "LNJ-Iupl_GG3"
      },
      "source": [
        "#Load the dataset"
      ]
    },
    {
      "cell_type": "code",
      "execution_count": null,
      "metadata": {
        "colab": {
          "base_uri": "https://localhost:8080/"
        },
        "id": "95J3YQeX4TaO",
        "outputId": "fdced367-148b-4490-bde0-31c5da54e0be"
      },
      "outputs": [
        {
          "output_type": "stream",
          "name": "stdout",
          "text": [
            "Mounted at /content/drive\n"
          ]
        }
      ],
      "source": [
        "from google.colab import drive\n",
        "drive.mount('/content/drive')"
      ]
    },
    {
      "cell_type": "code",
      "execution_count": null,
      "metadata": {
        "id": "KVfnBMCg2lzR"
      },
      "outputs": [],
      "source": [
        "df = pd.read_csv('drive/My Drive/Fake News Detection/train.csv')"
      ]
    },
    {
      "cell_type": "code",
      "execution_count": null,
      "metadata": {
        "colab": {
          "base_uri": "https://localhost:8080/",
          "height": 206
        },
        "id": "WHUPXx0ekWNU",
        "outputId": "2f68572a-fd46-4a63-a504-85cc13c52810"
      },
      "outputs": [
        {
          "output_type": "execute_result",
          "data": {
            "text/plain": [
              "   id                                              title              author  \\\n",
              "0   0  House Dem Aide: We Didn’t Even See Comey’s Let...       Darrell Lucus   \n",
              "1   1  FLYNN: Hillary Clinton, Big Woman on Campus - ...     Daniel J. Flynn   \n",
              "2   2                  Why the Truth Might Get You Fired  Consortiumnews.com   \n",
              "3   3  15 Civilians Killed In Single US Airstrike Hav...     Jessica Purkiss   \n",
              "4   4  Iranian woman jailed for fictional unpublished...      Howard Portnoy   \n",
              "\n",
              "                                                text  label  \n",
              "0  House Dem Aide: We Didn’t Even See Comey’s Let...      1  \n",
              "1  Ever get the feeling your life circles the rou...      0  \n",
              "2  Why the Truth Might Get You Fired October 29, ...      1  \n",
              "3  Videos 15 Civilians Killed In Single US Airstr...      1  \n",
              "4  Print \\nAn Iranian woman has been sentenced to...      1  "
            ],
            "text/html": [
              "\n",
              "  <div id=\"df-5186a821-47ab-4aa6-93e4-d4491a6bca45\">\n",
              "    <div class=\"colab-df-container\">\n",
              "      <div>\n",
              "<style scoped>\n",
              "    .dataframe tbody tr th:only-of-type {\n",
              "        vertical-align: middle;\n",
              "    }\n",
              "\n",
              "    .dataframe tbody tr th {\n",
              "        vertical-align: top;\n",
              "    }\n",
              "\n",
              "    .dataframe thead th {\n",
              "        text-align: right;\n",
              "    }\n",
              "</style>\n",
              "<table border=\"1\" class=\"dataframe\">\n",
              "  <thead>\n",
              "    <tr style=\"text-align: right;\">\n",
              "      <th></th>\n",
              "      <th>id</th>\n",
              "      <th>title</th>\n",
              "      <th>author</th>\n",
              "      <th>text</th>\n",
              "      <th>label</th>\n",
              "    </tr>\n",
              "  </thead>\n",
              "  <tbody>\n",
              "    <tr>\n",
              "      <th>0</th>\n",
              "      <td>0</td>\n",
              "      <td>House Dem Aide: We Didn’t Even See Comey’s Let...</td>\n",
              "      <td>Darrell Lucus</td>\n",
              "      <td>House Dem Aide: We Didn’t Even See Comey’s Let...</td>\n",
              "      <td>1</td>\n",
              "    </tr>\n",
              "    <tr>\n",
              "      <th>1</th>\n",
              "      <td>1</td>\n",
              "      <td>FLYNN: Hillary Clinton, Big Woman on Campus - ...</td>\n",
              "      <td>Daniel J. Flynn</td>\n",
              "      <td>Ever get the feeling your life circles the rou...</td>\n",
              "      <td>0</td>\n",
              "    </tr>\n",
              "    <tr>\n",
              "      <th>2</th>\n",
              "      <td>2</td>\n",
              "      <td>Why the Truth Might Get You Fired</td>\n",
              "      <td>Consortiumnews.com</td>\n",
              "      <td>Why the Truth Might Get You Fired October 29, ...</td>\n",
              "      <td>1</td>\n",
              "    </tr>\n",
              "    <tr>\n",
              "      <th>3</th>\n",
              "      <td>3</td>\n",
              "      <td>15 Civilians Killed In Single US Airstrike Hav...</td>\n",
              "      <td>Jessica Purkiss</td>\n",
              "      <td>Videos 15 Civilians Killed In Single US Airstr...</td>\n",
              "      <td>1</td>\n",
              "    </tr>\n",
              "    <tr>\n",
              "      <th>4</th>\n",
              "      <td>4</td>\n",
              "      <td>Iranian woman jailed for fictional unpublished...</td>\n",
              "      <td>Howard Portnoy</td>\n",
              "      <td>Print \\nAn Iranian woman has been sentenced to...</td>\n",
              "      <td>1</td>\n",
              "    </tr>\n",
              "  </tbody>\n",
              "</table>\n",
              "</div>\n",
              "      <button class=\"colab-df-convert\" onclick=\"convertToInteractive('df-5186a821-47ab-4aa6-93e4-d4491a6bca45')\"\n",
              "              title=\"Convert this dataframe to an interactive table.\"\n",
              "              style=\"display:none;\">\n",
              "        \n",
              "  <svg xmlns=\"http://www.w3.org/2000/svg\" height=\"24px\"viewBox=\"0 0 24 24\"\n",
              "       width=\"24px\">\n",
              "    <path d=\"M0 0h24v24H0V0z\" fill=\"none\"/>\n",
              "    <path d=\"M18.56 5.44l.94 2.06.94-2.06 2.06-.94-2.06-.94-.94-2.06-.94 2.06-2.06.94zm-11 1L8.5 8.5l.94-2.06 2.06-.94-2.06-.94L8.5 2.5l-.94 2.06-2.06.94zm10 10l.94 2.06.94-2.06 2.06-.94-2.06-.94-.94-2.06-.94 2.06-2.06.94z\"/><path d=\"M17.41 7.96l-1.37-1.37c-.4-.4-.92-.59-1.43-.59-.52 0-1.04.2-1.43.59L10.3 9.45l-7.72 7.72c-.78.78-.78 2.05 0 2.83L4 21.41c.39.39.9.59 1.41.59.51 0 1.02-.2 1.41-.59l7.78-7.78 2.81-2.81c.8-.78.8-2.07 0-2.86zM5.41 20L4 18.59l7.72-7.72 1.47 1.35L5.41 20z\"/>\n",
              "  </svg>\n",
              "      </button>\n",
              "      \n",
              "  <style>\n",
              "    .colab-df-container {\n",
              "      display:flex;\n",
              "      flex-wrap:wrap;\n",
              "      gap: 12px;\n",
              "    }\n",
              "\n",
              "    .colab-df-convert {\n",
              "      background-color: #E8F0FE;\n",
              "      border: none;\n",
              "      border-radius: 50%;\n",
              "      cursor: pointer;\n",
              "      display: none;\n",
              "      fill: #1967D2;\n",
              "      height: 32px;\n",
              "      padding: 0 0 0 0;\n",
              "      width: 32px;\n",
              "    }\n",
              "\n",
              "    .colab-df-convert:hover {\n",
              "      background-color: #E2EBFA;\n",
              "      box-shadow: 0px 1px 2px rgba(60, 64, 67, 0.3), 0px 1px 3px 1px rgba(60, 64, 67, 0.15);\n",
              "      fill: #174EA6;\n",
              "    }\n",
              "\n",
              "    [theme=dark] .colab-df-convert {\n",
              "      background-color: #3B4455;\n",
              "      fill: #D2E3FC;\n",
              "    }\n",
              "\n",
              "    [theme=dark] .colab-df-convert:hover {\n",
              "      background-color: #434B5C;\n",
              "      box-shadow: 0px 1px 3px 1px rgba(0, 0, 0, 0.15);\n",
              "      filter: drop-shadow(0px 1px 2px rgba(0, 0, 0, 0.3));\n",
              "      fill: #FFFFFF;\n",
              "    }\n",
              "  </style>\n",
              "\n",
              "      <script>\n",
              "        const buttonEl =\n",
              "          document.querySelector('#df-5186a821-47ab-4aa6-93e4-d4491a6bca45 button.colab-df-convert');\n",
              "        buttonEl.style.display =\n",
              "          google.colab.kernel.accessAllowed ? 'block' : 'none';\n",
              "\n",
              "        async function convertToInteractive(key) {\n",
              "          const element = document.querySelector('#df-5186a821-47ab-4aa6-93e4-d4491a6bca45');\n",
              "          const dataTable =\n",
              "            await google.colab.kernel.invokeFunction('convertToInteractive',\n",
              "                                                     [key], {});\n",
              "          if (!dataTable) return;\n",
              "\n",
              "          const docLinkHtml = 'Like what you see? Visit the ' +\n",
              "            '<a target=\"_blank\" href=https://colab.research.google.com/notebooks/data_table.ipynb>data table notebook</a>'\n",
              "            + ' to learn more about interactive tables.';\n",
              "          element.innerHTML = '';\n",
              "          dataTable['output_type'] = 'display_data';\n",
              "          await google.colab.output.renderOutput(dataTable, element);\n",
              "          const docLink = document.createElement('div');\n",
              "          docLink.innerHTML = docLinkHtml;\n",
              "          element.appendChild(docLink);\n",
              "        }\n",
              "      </script>\n",
              "    </div>\n",
              "  </div>\n",
              "  "
            ]
          },
          "metadata": {},
          "execution_count": 4
        }
      ],
      "source": [
        "df.head()"
      ]
    },
    {
      "cell_type": "code",
      "execution_count": null,
      "metadata": {
        "colab": {
          "base_uri": "https://localhost:8080/"
        },
        "id": "bgHNWolA-vsK",
        "outputId": "b0261e5a-5d63-4900-c6df-aaa5195ec569"
      },
      "outputs": [
        {
          "output_type": "stream",
          "name": "stdout",
          "text": [
            "[nltk_data] Downloading package stopwords to /root/nltk_data...\n",
            "[nltk_data]   Unzipping corpora/stopwords.zip.\n"
          ]
        },
        {
          "output_type": "execute_result",
          "data": {
            "text/plain": [
              "True"
            ]
          },
          "metadata": {},
          "execution_count": 5
        }
      ],
      "source": [
        "from nltk.tokenize import word_tokenize\n",
        "nltk.download('stopwords')"
      ]
    },
    {
      "cell_type": "code",
      "execution_count": null,
      "metadata": {
        "colab": {
          "base_uri": "https://localhost:8080/"
        },
        "id": "Tr-842hKCncd",
        "outputId": "b0a0e0ee-379e-4341-9141-779bca0842a9"
      },
      "outputs": [
        {
          "output_type": "execute_result",
          "data": {
            "text/plain": [
              "id           0\n",
              "title      558\n",
              "author    1957\n",
              "text        39\n",
              "label        0\n",
              "dtype: int64"
            ]
          },
          "metadata": {},
          "execution_count": 6
        }
      ],
      "source": [
        "df.dtypes\n",
        "df.isnull().sum()"
      ]
    },
    {
      "cell_type": "code",
      "execution_count": null,
      "metadata": {
        "id": "_SqQ13BFBsn6"
      },
      "outputs": [],
      "source": [
        "df = df.fillna('')"
      ]
    },
    {
      "cell_type": "code",
      "execution_count": null,
      "metadata": {
        "id": "ebQQuzF4CQG-"
      },
      "outputs": [],
      "source": [
        "df['content'] = df['author']+' '+ df['title']"
      ]
    },
    {
      "cell_type": "code",
      "execution_count": null,
      "metadata": {
        "id": "BQZMCq5uCSue"
      },
      "outputs": [],
      "source": [
        "X = df.drop(columns='label', axis=1)\n",
        "Y = df['label']"
      ]
    },
    {
      "cell_type": "code",
      "execution_count": null,
      "metadata": {
        "colab": {
          "base_uri": "https://localhost:8080/"
        },
        "id": "U55rojhfCWIk",
        "outputId": "d6ae1654-671f-423b-d3d3-23fe7c8f85e6"
      },
      "outputs": [
        {
          "output_type": "stream",
          "name": "stdout",
          "text": [
            "          id                                              title  \\\n",
            "0          0  House Dem Aide: We Didn’t Even See Comey’s Let...   \n",
            "1          1  FLYNN: Hillary Clinton, Big Woman on Campus - ...   \n",
            "2          2                  Why the Truth Might Get You Fired   \n",
            "3          3  15 Civilians Killed In Single US Airstrike Hav...   \n",
            "4          4  Iranian woman jailed for fictional unpublished...   \n",
            "...      ...                                                ...   \n",
            "20795  20795  Rapper T.I.: Trump a ’Poster Child For White S...   \n",
            "20796  20796  N.F.L. Playoffs: Schedule, Matchups and Odds -...   \n",
            "20797  20797  Macy’s Is Said to Receive Takeover Approach by...   \n",
            "20798  20798  NATO, Russia To Hold Parallel Exercises In Bal...   \n",
            "20799  20799                          What Keeps the F-35 Alive   \n",
            "\n",
            "                                          author  \\\n",
            "0                                  Darrell Lucus   \n",
            "1                                Daniel J. Flynn   \n",
            "2                             Consortiumnews.com   \n",
            "3                                Jessica Purkiss   \n",
            "4                                 Howard Portnoy   \n",
            "...                                          ...   \n",
            "20795                              Jerome Hudson   \n",
            "20796                           Benjamin Hoffman   \n",
            "20797  Michael J. de la Merced and Rachel Abrams   \n",
            "20798                                Alex Ansary   \n",
            "20799                              David Swanson   \n",
            "\n",
            "                                                    text  \\\n",
            "0      House Dem Aide: We Didn’t Even See Comey’s Let...   \n",
            "1      Ever get the feeling your life circles the rou...   \n",
            "2      Why the Truth Might Get You Fired October 29, ...   \n",
            "3      Videos 15 Civilians Killed In Single US Airstr...   \n",
            "4      Print \\nAn Iranian woman has been sentenced to...   \n",
            "...                                                  ...   \n",
            "20795  Rapper T. I. unloaded on black celebrities who...   \n",
            "20796  When the Green Bay Packers lost to the Washing...   \n",
            "20797  The Macy’s of today grew from the union of sev...   \n",
            "20798  NATO, Russia To Hold Parallel Exercises In Bal...   \n",
            "20799    David Swanson is an author, activist, journa...   \n",
            "\n",
            "                                                 content  \n",
            "0      Darrell Lucus House Dem Aide: We Didn’t Even S...  \n",
            "1      Daniel J. Flynn FLYNN: Hillary Clinton, Big Wo...  \n",
            "2      Consortiumnews.com Why the Truth Might Get You...  \n",
            "3      Jessica Purkiss 15 Civilians Killed In Single ...  \n",
            "4      Howard Portnoy Iranian woman jailed for fictio...  \n",
            "...                                                  ...  \n",
            "20795  Jerome Hudson Rapper T.I.: Trump a ’Poster Chi...  \n",
            "20796  Benjamin Hoffman N.F.L. Playoffs: Schedule, Ma...  \n",
            "20797  Michael J. de la Merced and Rachel Abrams Macy...  \n",
            "20798  Alex Ansary NATO, Russia To Hold Parallel Exer...  \n",
            "20799            David Swanson What Keeps the F-35 Alive  \n",
            "\n",
            "[20800 rows x 5 columns]\n"
          ]
        }
      ],
      "source": [
        "print(X)"
      ]
    },
    {
      "cell_type": "code",
      "execution_count": null,
      "metadata": {
        "id": "ApAZ3sRIC1im"
      },
      "outputs": [],
      "source": [
        "port_stem = PorterStemmer()"
      ]
    },
    {
      "cell_type": "code",
      "execution_count": null,
      "metadata": {
        "id": "LqRJG12RDoTg"
      },
      "outputs": [],
      "source": [
        "def stemming(content):\n",
        "    stemmed_content = re.sub('[^a-zA-Z]',' ',content)\n",
        "    stemmed_content = stemmed_content.lower()\n",
        "    stemmed_content = stemmed_content.split()\n",
        "    stemmed_content = [port_stem.stem(word) for word in stemmed_content if not word in stopwords.words('english')]\n",
        "    stemmed_content = ' '.join(stemmed_content)\n",
        "    # print(stemmed_content)\n",
        "    return stemmed_content"
      ]
    },
    {
      "cell_type": "code",
      "execution_count": null,
      "metadata": {
        "id": "BNN5cdP1Dzfe"
      },
      "outputs": [],
      "source": [
        "df['content'] = df['content'].apply(stemming)"
      ]
    },
    {
      "cell_type": "code",
      "execution_count": null,
      "metadata": {
        "colab": {
          "base_uri": "https://localhost:8080/"
        },
        "id": "JK3hRn8MxzY5",
        "outputId": "d1704e79-76f7-4752-b79e-8e71a98b513e"
      },
      "outputs": [
        {
          "output_type": "stream",
          "name": "stdout",
          "text": [
            "          id                                              title  \\\n",
            "0          0  House Dem Aide: We Didn’t Even See Comey’s Let...   \n",
            "1          1  FLYNN: Hillary Clinton, Big Woman on Campus - ...   \n",
            "2          2                  Why the Truth Might Get You Fired   \n",
            "3          3  15 Civilians Killed In Single US Airstrike Hav...   \n",
            "4          4  Iranian woman jailed for fictional unpublished...   \n",
            "...      ...                                                ...   \n",
            "20795  20795  Rapper T.I.: Trump a ’Poster Child For White S...   \n",
            "20796  20796  N.F.L. Playoffs: Schedule, Matchups and Odds -...   \n",
            "20797  20797  Macy’s Is Said to Receive Takeover Approach by...   \n",
            "20798  20798  NATO, Russia To Hold Parallel Exercises In Bal...   \n",
            "20799  20799                          What Keeps the F-35 Alive   \n",
            "\n",
            "                                          author  \\\n",
            "0                                  Darrell Lucus   \n",
            "1                                Daniel J. Flynn   \n",
            "2                             Consortiumnews.com   \n",
            "3                                Jessica Purkiss   \n",
            "4                                 Howard Portnoy   \n",
            "...                                          ...   \n",
            "20795                              Jerome Hudson   \n",
            "20796                           Benjamin Hoffman   \n",
            "20797  Michael J. de la Merced and Rachel Abrams   \n",
            "20798                                Alex Ansary   \n",
            "20799                              David Swanson   \n",
            "\n",
            "                                                    text  \\\n",
            "0      House Dem Aide: We Didn’t Even See Comey’s Let...   \n",
            "1      Ever get the feeling your life circles the rou...   \n",
            "2      Why the Truth Might Get You Fired October 29, ...   \n",
            "3      Videos 15 Civilians Killed In Single US Airstr...   \n",
            "4      Print \\nAn Iranian woman has been sentenced to...   \n",
            "...                                                  ...   \n",
            "20795  Rapper T. I. unloaded on black celebrities who...   \n",
            "20796  When the Green Bay Packers lost to the Washing...   \n",
            "20797  The Macy’s of today grew from the union of sev...   \n",
            "20798  NATO, Russia To Hold Parallel Exercises In Bal...   \n",
            "20799    David Swanson is an author, activist, journa...   \n",
            "\n",
            "                                                 content  \n",
            "0      Darrell Lucus House Dem Aide: We Didn’t Even S...  \n",
            "1      Daniel J. Flynn FLYNN: Hillary Clinton, Big Wo...  \n",
            "2      Consortiumnews.com Why the Truth Might Get You...  \n",
            "3      Jessica Purkiss 15 Civilians Killed In Single ...  \n",
            "4      Howard Portnoy Iranian woman jailed for fictio...  \n",
            "...                                                  ...  \n",
            "20795  Jerome Hudson Rapper T.I.: Trump a ’Poster Chi...  \n",
            "20796  Benjamin Hoffman N.F.L. Playoffs: Schedule, Ma...  \n",
            "20797  Michael J. de la Merced and Rachel Abrams Macy...  \n",
            "20798  Alex Ansary NATO, Russia To Hold Parallel Exer...  \n",
            "20799            David Swanson What Keeps the F-35 Alive  \n",
            "\n",
            "[20800 rows x 5 columns]\n"
          ]
        }
      ],
      "source": [
        "print(X)\n"
      ]
    },
    {
      "cell_type": "code",
      "execution_count": null,
      "metadata": {
        "id": "q1dF14xHD17V"
      },
      "outputs": [],
      "source": [
        "#separating the data and label\n",
        "X = df['content'].values\n",
        "Y = df['label'].values"
      ]
    },
    {
      "cell_type": "code",
      "execution_count": null,
      "metadata": {
        "colab": {
          "base_uri": "https://localhost:8080/"
        },
        "id": "NrYWmSFl1XZ7",
        "outputId": "c816b6ba-61cc-4c12-d87f-0954538eda1b"
      },
      "outputs": [
        {
          "output_type": "stream",
          "name": "stdout",
          "text": [
            "['darrel lucu hous dem aid even see comey letter jason chaffetz tweet'\n",
            " 'daniel j flynn flynn hillari clinton big woman campu breitbart'\n",
            " 'consortiumnew com truth might get fire' ...\n",
            " 'michael j de la merc rachel abram maci said receiv takeov approach hudson bay new york time'\n",
            " 'alex ansari nato russia hold parallel exercis balkan'\n",
            " 'david swanson keep f aliv']\n"
          ]
        }
      ],
      "source": [
        "print(X)"
      ]
    },
    {
      "cell_type": "code",
      "execution_count": null,
      "metadata": {
        "colab": {
          "base_uri": "https://localhost:8080/"
        },
        "id": "1zPRNceY1zJR",
        "outputId": "dff2a37a-9895-4fbe-d572-8c561105f8b6"
      },
      "outputs": [
        {
          "output_type": "stream",
          "name": "stdout",
          "text": [
            "(20800,)\n"
          ]
        }
      ],
      "source": [
        "print(X.shape)"
      ]
    },
    {
      "cell_type": "code",
      "execution_count": null,
      "metadata": {
        "colab": {
          "base_uri": "https://localhost:8080/"
        },
        "id": "L03VVfRStdjR",
        "outputId": "f219d85d-4497-4900-d32e-886470102d79"
      },
      "outputs": [
        {
          "output_type": "stream",
          "name": "stdout",
          "text": [
            "['darrel lucu hous dem aid even see comey letter jason chaffetz tweet'\n",
            " 'daniel j flynn flynn hillari clinton big woman campu breitbart'\n",
            " 'consortiumnew com truth might get fire' ...\n",
            " 'michael j de la merc rachel abram maci said receiv takeov approach hudson bay new york time'\n",
            " 'alex ansari nato russia hold parallel exercis balkan'\n",
            " 'david swanson keep f aliv']\n"
          ]
        }
      ],
      "source": [
        "print(df['content'].values)"
      ]
    },
    {
      "cell_type": "code",
      "execution_count": null,
      "metadata": {
        "id": "N7c8sDhOEdz4"
      },
      "outputs": [],
      "source": [
        "from sklearn.feature_extraction.text import CountVectorizer\n",
        "from sklearn.feature_extraction.text import TfidfVectorizer"
      ]
    },
    {
      "cell_type": "code",
      "execution_count": null,
      "metadata": {
        "id": "nduhTlQ9EgbZ"
      },
      "outputs": [],
      "source": [
        "vectorizer = TfidfVectorizer()\n",
        "vectorizer.fit(X)\n",
        "\n",
        "X = vectorizer.transform(X)"
      ]
    },
    {
      "cell_type": "code",
      "execution_count": null,
      "metadata": {
        "colab": {
          "base_uri": "https://localhost:8080/"
        },
        "id": "Wi_PodkK179c",
        "outputId": "4d6641fa-0bf9-4254-f096-b07d823bdeab"
      },
      "outputs": [
        {
          "output_type": "stream",
          "name": "stdout",
          "text": [
            "(20800, 17128)\n"
          ]
        }
      ],
      "source": [
        "print(X.shape)"
      ]
    },
    {
      "cell_type": "markdown",
      "metadata": {
        "id": "kcHzMSWcFpJZ"
      },
      "source": [
        "# Split the data into test and train data"
      ]
    },
    {
      "cell_type": "code",
      "execution_count": null,
      "metadata": {
        "id": "uwK2j2NlEjPC"
      },
      "outputs": [],
      "source": [
        "X_train, X_test, Y_train, Y_test = train_test_split(X, Y, test_size = 0.3, stratify=Y, random_state=2)"
      ]
    },
    {
      "cell_type": "markdown",
      "metadata": {
        "id": "QLoCSHmkGTYw"
      },
      "source": [
        "# Logistic Regression"
      ]
    },
    {
      "cell_type": "code",
      "execution_count": null,
      "metadata": {
        "id": "MZs44IWYFw9Z"
      },
      "outputs": [],
      "source": [
        "model = LogisticRegression()"
      ]
    },
    {
      "cell_type": "code",
      "execution_count": null,
      "metadata": {
        "colab": {
          "base_uri": "https://localhost:8080/"
        },
        "id": "lPZb_IqQGYJl",
        "outputId": "c44a3de7-1083-40cc-fabb-cc37800b836f"
      },
      "outputs": [
        {
          "output_type": "execute_result",
          "data": {
            "text/plain": [
              "LogisticRegression()"
            ]
          },
          "metadata": {},
          "execution_count": 25
        }
      ],
      "source": [
        "model.fit(X_train, Y_train)"
      ]
    },
    {
      "cell_type": "code",
      "execution_count": null,
      "metadata": {
        "colab": {
          "base_uri": "https://localhost:8080/"
        },
        "id": "xwoRR9XEG6hj",
        "outputId": "9ac0acdd-4463-4d92-8fde-53ac65df59dd"
      },
      "outputs": [
        {
          "output_type": "stream",
          "name": "stdout",
          "text": [
            "(14560, 17128)\n",
            "[1 1 1 ... 0 1 0]\n"
          ]
        }
      ],
      "source": [
        "print(X_train.shape)\n",
        "X_train_prediction = model.predict(X_train)\n",
        "print(X_train_prediction)\n",
        "# training_data_accuracy = accuracy_score(X_train_prediction, Y_train)"
      ]
    },
    {
      "cell_type": "code",
      "execution_count": null,
      "metadata": {
        "id": "b1hDj1LvG9b9"
      },
      "outputs": [],
      "source": [
        "# print('Accuracy score of the training data : ', training_data_accuracy)"
      ]
    },
    {
      "cell_type": "code",
      "execution_count": null,
      "metadata": {
        "colab": {
          "base_uri": "https://localhost:8080/"
        },
        "id": "JTQrYstlHA9-",
        "outputId": "0fa606c4-4bcf-4f14-fb3b-c22e6a13cb49"
      },
      "outputs": [
        {
          "output_type": "stream",
          "name": "stdout",
          "text": [
            "(6240, 17128)\n",
            "0.9743589743589743\n"
          ]
        }
      ],
      "source": [
        "X_test_prediction = model.predict(X_test)\n",
        "print(X_test.shape)\n",
        "test_data_accuracy = accuracy_score(X_test_prediction, Y_test)\n",
        "print(test_data_accuracy)"
      ]
    },
    {
      "cell_type": "code",
      "execution_count": null,
      "metadata": {
        "id": "SDPcOzj9od4j"
      },
      "outputs": [],
      "source": [
        "test_string_1 = \"\"\"Videos 15 Civilians Killed In Single US Airstrike Have Been Identified The rate at which civilians are being killed by American airstrikes in Afghanistan is now higher than it was in 2014 when the US was engaged in active combat operations.   Photo of Hellfire missiles being loaded onto a US military Reaper drone in Afghanistan by Staff Sgt. Brian Ferguson/U.S. Air Force. The Bureau has been able to identify 15 civilians killed in a single US drone strike in Afghanistan last month ‚Äì the biggest loss of civilian life in one strike since \n",
        "the attack on the Medecins Sans Frontieres hospital (MSF) last October. \n",
        "The US claimed it had conducted a ‚Äúcounter-terrorism‚Äù strike against Islamic State (IS) fighters when it hit Nangarhar province with missiles on September 28. But the next day the United Nations issued an unusually rapid and strong statement saying the strike had killed 15 civilians and injured 13 others who had gathered at a house to celebrate a tribal elder‚Äôs return from a pilgrimage to Mecca. \n",
        "The Bureau spoke to a man named Haji Rais who said he was the owner of the house that was targeted. He said 15 people were killed and 19 others injured, and provided their names (listed below). The Bureau was able to independently verify the identities of those who died. \n",
        "Rais‚Äô son, a headmaster at a local school, was among them. Another man, Abdul Hakim, lost three of his sons in the attack. \n",
        "Rais said he had no involvement with IS and denied US claims that IS members had visited his house before the strike. He said: ‚ÄúI did not even speak to those sort of people on the phone let alone receiving them in my house.‚Äù \n",
        "The deaths amount to the biggest confirmed loss of civilian life in a single American strike in Afghanistan since the attack on the MSF hospital in Kunduz last October, which killed at least 42 people. \n",
        "The Nangarhar strike was not the only US attack to kill civilians in September. The Bureau‚Äôs data indicates that as many as 45 civilians and allied soldiers were killed in four American strikes in Afghanistan and Somalia that month. \n",
        "On September 18 a pair of strikes killed eight Afghan policemen in Tarinkot, the capital of Urozgan provice. US jets reportedly hit a police checkpoint, killing one officer, before returning to target first responders. The use of this tactic ‚Äì known as a ‚Äúdouble-tap‚Äù strike ‚Äì is controversial because they often hit civilian rescuers. \n",
        "The US told the Bureau it had conducted the strike against individuals firing on and posing a threat to Afghan forces. The email did not directly address the allegations of Afghan policemen being killed. \n",
        "At the end of the month in Somalia, citizens burnt US flags on the streets of the north-central city of Galcayo after it emerged a drone attack may have unintentionally killed 22 Somali soldiers and civilians. The strike occurred on the same day as the one in Nangarhar. \n",
        "In both the Somali and Afghan incidents, the US at first denied that any non-combatants had been killed. It is now investigating both the strikes in Nangarhar and Galcayo. \n",
        "The rate at which civilians are being killed by American airstrikes in Afghanistan is now higher than it was in 2014 when the US was engaged in active combat operations\"\"\""
      ]
    },
    {
      "cell_type": "code",
      "source": [
        "test_string_3 = \"\"\"Open Thread (NOT U.S. Election) 2016-39 \n",
        "News & views not U.S. election related ...   18, 2016 at 01:44 PM | Permalink Comments \n",
        "The Podesta emails - After Hillary, John Podesta had been seriously warned about the Syrian chaos Posted by: nmb | Nov 18, 2016 1:59:59 PM | 1 \n",
        "Although it is hilarious to see the Hillary supporters throwing a massive tantrum about 'fake news,' it does make it clear just how powerful having direct access to information is in negating money, mainstream media capture and control, and government propaganda. \n",
        "I don't know how much the new Trump presidency will change the US intelligence agency culture. But one has to assume they are apoplectic over their failure in Syria. Billions of dollars and years wasted all because people have direct access to information unfiltered out of Syria. \n",
        "It should have a completely unremarkable US regime change operation: \n",
        "* Send in the NGOs to agitate locals * Make promises of support for attacks on the government by the sole world superpower * Get selectively edited footage of your collaborators on the ground being attacked by the government(after they attacked the government) * Pump out mass amounts of propaganda based off that footage: \"\"Simple farmers rising up to overthrow a brutal regime!\"\" * Wield the tremendous economic power of the US to ensure the vast majority of smaller countries are on board with military action sanctioned by the UN * Flood the country with arms for anyone no matter how crazy to attack the government * Fake chemical attacks, US intelligence agency compromised UN reports and inspectors, etc. \n",
        "All of that derailed by nothing more than people having direct access to information uncensored out of Syria. \n",
        "I think it is safe to assume the US intelligence agencies are actively working on ways to make it illegal or impossible for anyone to publish, share, or consume 'unauthorized' information from countries that are targets of regime change. \n",
        "The easiest way would be to designate any source of information not actively working with or approved by the US intelligence agencies will be increasingly labeled as 'terror propaganda' and US social media and Internet providers will be required to censor or shutdown any such sources. Posted by: Stevens | Nov 18, 2016 2:16:40 PM | 2 \n",
        "Stevens @ 2: Great post, thanks. \n",
        "This \"\"regime change\"\" U$A foreign policy, has been implemented around the globe for many many years now, all in the interests of big corporate profits, and global hegemony. The sad truth seems to be, there are no signs its about to change. Posted by: ben | Nov 18, 2016 2:34:13 PM | 3 \n",
        "I was watching a travelogue program on PBS. The trip was to Cuba. The narrator traveled by train across the country. A train line that was originally built in the 1870s by Spain to divide the country for defensive and control purposes. The locomotives pulling the passenger cars were 1950s USA manufactured vintage and date to a time when our Federal Government had good economic relations with the Batista Regiem. \n",
        "When I think of the cruel and unusual economic punishment dished out to Cuba by our Federal Government all I can see is a bunch of financially poor peasants who bear the brunt of U.S. economic warfare. Just as in the Middle East and now Europe economic sanction wars hurt the farmer, the small business operator, the basic family unit, etc., while rich people get richer. Isn't it about time to back off on the economic war against Cuba and the rest of the Planet? Our collective cruelty seems to know no bounds? \n",
        "Just my opinion Posted by: ALberto | Nov 18, 2016 3:00:02 PM | 4 \n",
        "Bernhard, I should think most of us reading and commenting here have pretty much accepted the result of the US presidential elections and are glad that Killer Klinton's ambitions have crashed and her future seems to be in a white house with steel bar columns and uniformed prison guards. \n",
        "The focus is now on President-elect Donald Trump's likely cabinet appointments, who are the most likely choices for critical positions like Defense Secretary and State Secretary, what the process is and how that is being carried out (or not carried out), and what that says about Trump's leadership and decision-making style, how he plans on being President and whether his choices are the right choices for his agenda (if it is genuine) of reforming the political culture on Capitol Hill, or \"\"draining the swamp\"\". \n",
        "If indeed Trump is intent on bringing changes to Capitol Hill, then there's a strong likelihood that the Soros-funded \"\"Color Revolution\"\" rioting around the US East and West Coasts will come to Washington and we'll be seeing a re-enactment of the Kiev Maidan events there. Posted by: Jen | Nov 18, 2016 3:01:27 PM | 5 \n",
        "Does the Constitution of the United States require the president to have a specific number of executive departments? The answer is no. George Washington only had four departments in his administration as first President of the United States. \n",
        "Perhaps if Mr. Trump can't find suitable candidates for his cabinet when he \"\"drains the swamp\"\", he could assume the role as interim department head until such time as qualified non-militarists emerge from the private sector to serve in his administration. Posted by: PokeTheTruth | Nov 18, 2016 3:04:34 PM | 6 \n",
        "@2 stevens..thanks for your comments. lets hope open access to information continues.. the signs of this happening don't look great, but they remain open still.. thankfully, moa is one of many sites where sharing info is of great benefit and continues.. \n",
        "M K Bhadrakumar's latest.. \n",
        "meanwhile obama, merkel, hollandaze and their italian counterpart have all agreed to continue for another year, the sanctions on russia over ukraine.. the bozo head for nato jens stalenbread or however his name is spelled, continues on with the disingenuous musings of an old king about to reenact a version of humpty dumpty.. \n",
        "meanwhile the witch hunt on acedemics, or anyone associated with gulen continues in turkey.. erdogan was visiting pakistan the past few days and i happened to read this on the usa state dept daily transcript from yesterday in the form of a question. \n",
        "Question :\"\"Turkish President Erdogan is in Pakistan today, and he publicly suggested to Pakistan that the West was behind ISIS in order to hurt Muslims, quote, â€œIt is certain that Western countries are standing by Daesh. Now Iraq, Pakistan, Afghanistan, and many others are suffering from terrorism and separatist terrorism.â€Whatâ€™s your comment on that? Do you think itâ€™s a reasonable statement? \n",
        "MR KIRBY: No, I do not.\"\" \n",
        "it is pretty funny how these daily press briefings highlight usa propaganda in such a distinct and colourful manner.. fortunately the odd journalist asks questions that lift the veil that is constantly being thrown out by these same masters of propaganda.. Posted by: james | Nov 18, 2016 3:36:30 PM | 7 \n",
        "@5 If indeed Trump is intent on bringing changes to Capitol Hill, then there's a strong likelihood that the Soros-funded \"\"Color Revolution\"\" rioting around the US East and West Coasts will come to Washington and we'll be seeing a re-enactment of the Kiev Maidan events there. \n",
        "No, you will not be seeing \"\"Maidan\"\". Middle America white (and not only) working class men are extremely well armed and are really angry still. So, if this rioting will come to Washington, who says that good ole' Ford Truck can not run over mountain bike of Tesla? Once the shooting starts (hopefully not) it will be a totally different game than Kiev \"\"Maidan\"\". There is also a trend, call it a hunch--most of US combat veterans from US endless wars tend to lean towards people like Trump. Posted by: SmoothieX12 | Nov 18, 2016 3:49:18 PM | 8 \n",
        "2 \n",
        "The Right firmly believes in Onward Xtian Soldiers for the Judeo-Xtian Axis, remember the $150,000,000,000 that 'Obama Paid As Hostage to Iran' was just a setup by the Right, that was Iran's sovereign national wealth held in overseas investments and illegally frozen by the Right as an *act of war*. \n",
        "When Obama agreed to end those illegal sanctions and let Iran retrieve their investments (which they may have done today, if you look at the huge market selloff), the Right again illegally crossed into Iran territory with their Navy patrol boats to create a false 'hostage' narrative. \n",
        "Those Navy boats know where they are by GPS withing 3.5 meters (10 feet), and Iran didn't beat them or waterboard them like AbuGraib or Gitmo, instead, they traded them for their *interest losses* on their illegally frozen foreign investments. \n",
        "With Huckabee as nee Ambassador to Israel, and neocon Pompeo as named CIA Director, and Jared Kushner getting top secret briefings to pass along to his Israeli blood-diamond partner Lev Leviev, you can bet the Xtian Soldiers will be pouring our blood and our treasure onto the radioactive sands of the Middle East, filling up the VA hospitals again for the Judeo-Xtian Axis of Greater Isreal. \n",
        "If anyone else has a happier sitrep, we'd all like to hear it. Posted by: chipnik | Nov 18, 2016 4:22:24 PM | 9 \n",
        "#8 - I read somewhere the majority of the enlisted were voting Trump and the officer corp leaning Clinton. It would be interesting to see the breakdown of the military vote. Posted by: h | Nov 18, 2016 4:24:54 PM | 10 \n",
        "Anybody witness the duet between Obama and Merkel on youtube? Merkel talked first while Obama stood off to the side with a ridiculous smirk on his bobble head. It was so horrible I couldn't watch. Posted by: ruralito | Nov 18, 2016 4:27:09 PM | 11 \n",
        "Jen | Nov 18, 2016 3:01:27 PM | 5 and SmoothieX12 | Nov 18, 2016 3:49:18 PM | 8 \n",
        "We have one month before the electoral college votes. I suspect that this is the venue that the neolibcons will use to try to steal the election from Trump. The \"\"demonstrators\"\" paid and organized by Soros et al help set the background and provide the rationale for the \"\"need\"\" to \"\"accept the will of the people\"\". \n",
        "If this should transpire, then you will see civil unrest. The red states will not go along with the theft of the election for Clinton. Posted by: Perimetr | Nov 18, 2016 4:28:35 PM | 12 \n",
        "@12 \n",
        "Soros \"\"paid for\"\" protesters is just more of b's \"\"fake news\"\". I have friends, middle class professionals, who've been participating in California and all they know about Soros is he made a ton of $$ on Brit Currency bets 2 decades ago. \n",
        "The elector's \"\"switch\"\" is not going to happen, just more hysteria. Posted by: jdmckay | Nov 18, 2016 4:40:06 PM | 13 If this should transpire, then you will see civil unrest. The red states will not go along with the theft of the election for Clinton. \n",
        "Even the \"\"blue\"\" states have very large and populous \"\"red\"\" areas--mostly beyond large urban centers which long ago became a cloaca of depravity. My point is, that this possible (how probable--that is totally another discussion) civil unrest, once \"\"red\"\" states America gets involved seriously, will not last too long for a number of purely tactical, operational and logistical reasons. This is if to discount the possibility of law enforcement actually enforcing the law and order which may, under certain conditions, turn very violent against those who will try to undermine constitutional process. Blue states can not win for mostly cultural reasons since, as I already stated, \"\"Red\"\" states' America is simply armed on several orders of magnitude better and is really angry. It is also tougher. Social and cultural composition of HRC's electorate speaks volumes--it is, in Steve Sailer's words (I think it was him), a \"\"coalition of the fringes\"\" and not very capable to start with. Posted by: SmoothieX12 | Nov 18, 2016 4:47:57 PM | 14 \n",
        "@10 It would be interesting to see the breakdown of the military vote. \n",
        "I don't hold my breath but, again--call it a hunch, I think that majority of US Armed Forces officer corps, especially officers \"\"in the field\"\" are Trump supporters. Posted by: SmoothieX12 | Nov 18, 2016 4:50:06 PM | 15 \n",
        "@13 \n",
        "WRT \"\"fake news\"\" and Soros paid rioters : Paul Horner â€” the 38-year-old self-made titan of a fake news empire on Facebook â€” is claiming responsibility for pushing Donald Trump to the White House, and says he has no plans to stop publishing fake news. \n",
        "In an interview with The Washington Post, Horner attributed his success to Trumpsâ€™ particular base of supporters. He is the man behind such viral headlines as â€œThe Amish in America Commit their Vote to Donald Trumpâ€ and â€œPresident Obama Signs Executive Order Banning the National Anthem at all Sporting Events Nationwideâ€ â€” neither of which were true. \n",
        "â€œMy sites were picked up by Trump supporters all the time. I think Trump is in the White House because of me. His followers donâ€™t fact-check anything â€” theyâ€™ll post everything, believe anything. His campaign manager posted my story about a protester getting paid $3,500 as fact. Like, I made that up. I posted a fake ad on Craigslist,â€ he told The Washington Post. Posted by: jdmckay | Nov 18, 2016 4:52:36 PM | 16 \n",
        "The coming conflict is between globalism and nationalism. The basic problem is numbers. Rule by monopolistic global corporations, at best, supports 20% of the population in the short term. It enriches the ruling elite and their servants and improvises everyone else. In the long term, climate change or a nuclear war, brought on by the blind needs of greed, will end the world as we know it. Brexit and the Trump Presidency proved that globalism and democracy are incompatible. For globalism to proceed in the middle term, it will require a surveillance police state, total propaganda, reeducation camps and the shutdown of this bar. Posted by: VietnamVet | Nov 18, 2016 4:56:50 PM | 17 \n",
        "Who decides which news is fake? Sounds like an easy way to limit freedom of speech and of the press. \n",
        "Why can't people be allowed to decide for themselves which news is fake? Posted by: lysias | Nov 18, 2016 4:58:30 PM | 18 \n",
        "As a retired officer of the U.S. Navy, I would be very disappointed if a majority of the officer corps supported Hillary. It would be very disappointing if they put their increased chances of promotion in new wars over the good of the country. Disappointing, but not exactly surprising. Posted by: lysias | Nov 18, 2016 5:01:17 PM | 19 \n",
        "I find it interesting that this open thread was not suppose to be about the US election but darn near all of the comments are to one degree or another. Posted by: psychohistorian | Nov 18, 2016 5:12:13 PM | 20 \n",
        "It's great that there's some dialog between Trump and Putin. I think at least Western Syria will be cleansed of jihadis as a result. \n",
        "But Trump might be a little more hard nosed in the future. After the tensions are dialed down and having the score at basically Russia 1, US 0, he's not going to be so pliable. He sure as fuck isn't going to throw Israel under a bus. He's not going to roll over on all American commitments in the region. \n",
        "Trump's been getting a complete rundown on the big picture. It's no secret that until recently he couldn't have found Damascus on a map. Now he knows about the Shiite Crescent and how the arms can flow from Iran to Syria to Hezbollah in Lebanon in volumes like never before and how upsetting that is for Israel. \n",
        "Now there's action towards taking Raqqa by the Kurds and who knows who else. The US and its posse will provide the air cover and logistics plus lots of special ops once it kicks in. I'm surprised the Kurds bit again after taking it up the arse from the US a couple of months ago They're not going all in right now as things are ongoing in Mosul and will be for a while. But you don't hear Assad and the Russians squawking much about it. It's like they both know that parts of Eastern Syria are bye-bye. \n",
        "Trump's good will towards Russia certainly doesn't extend to Iran. And no American will ever call Hezbollah anything bur a terrorist organization after the Marine barracks truck bombing in Beirut all those years ago. If Putin and Trump are going to come to a general understanding in the ME there's going to have to be some give and take. \n",
        "Putin's done quite a turnaround in taking Russia from a pariah state a couple of years ago to the player on the world sage that it is now. It's looking good for him to keep his man in power in Syria and to establish a permanent presence in the ME with Khmeimim and Tartus. Once Trump is fully up to speed on the totality of American interests in the region he is bound by his office not to walk away from them. There will have to be some serious deal-making. Posted by: peter | Nov 18, 2016 5:16:47 PM | 21 Putin's done quite a turnaround in taking Russia from a pariah state a couple of years ago to the player on the world sage that it is now. \n",
        "Your timeline is a bit off. The coming of Putin was a direct result of NATO's 1999 aggression against Yugoslavia, while War of 08-08-08 was the start of Russia's return into big league. So, it is not a \"\"couple of years\"\". Results of War of 080808 actually stunned DC's neocon interventionist cabal. Posted by: SmoothieX12 | Nov 18, 2016 5:28:28 PM | 22 Who decides which news is fake? \n",
        "Buzzfeed did some analysis on Social media generated fake news during the election. An awful lot of it was simply false. You can look at some of those headlines and judge for yourself. \n",
        "Ironically, Paul Horner (guy behind \"\"fake news empire\"\" I linked in prior post) said: He said he didnâ€™t do it for ideological reasons. â€œI hate Trump,â€ he told The Post. â€œI thought I was messing with the campaign, maybe I wasnâ€™t messing them up as much as I wanted â€” but I never thought heâ€™d actually get elected.â€ \n",
        "Just happens 70% + of fake news this election cycle (according to Buzzfeed) was anti-Clinton. Posted by: jdmckay | Nov 18, 2016 5:47:15 PM | 23 \n",
        "....and how the arms can flow from Libya and Zio-Ukraine to ISIS in Syria and Hezbollah in Lebanon in volumes like never before and how 'upsetting'(sic) that is for Israel. \n",
        "Yeah, 'upsetting' to the Israel Likud former-Soviet mafia which fully supports ISIS and maintains 'Hezbullah' straw dog, to keep UN forces out of Greater Israel and torpedo the Two-State Solution and the Right-of-Return agreements which Netanyahu freely boasted he lied about supporting. \n",
        "http://foreignpolicy.com/2014/02/07/when-reagan-cut-and-run/ \n",
        "MoA isn't another Likud psyop disinformation campaign for the new Trump-Israel First Regime. Remember it was your team's counterfeit Yellow Cake Big Lie that assassinated the Baathists, and paved the way for Shi'ia's defensive action against the Bush-Cheney IL Wahhabi's usurpers and crusaders. You theory will do much better on Breitbart. Posted by: chipnik | Nov 18, 2016 5:52:07 PM | 24 \n",
        "@22 \n",
        "I was referring to his exclusion after annexing Crimea. The G8 turned into the G7 and he was shunned at the G20. It was decided by the US and its posse that world events would move along without any input from Russia. That changed when he entered Syria. Posted by: peter | Nov 18, 2016 6:45:39 PM | 25 \n",
        "And on the climate change or not front there are these articles:\"\"\""
      ],
      "metadata": {
        "id": "LOncj6wB6juf"
      },
      "execution_count": null,
      "outputs": []
    },
    {
      "cell_type": "code",
      "execution_count": null,
      "metadata": {
        "id": "ww7VoNxcQrSb"
      },
      "outputs": [],
      "source": [
        "test_string_2 = \"\"\"A week before Michael T. Flynn resigned as national security adviser, a sealed proposal was   to his office, outlining a way for President Trump to lift sanctions against Russia. Mr. Flynn is gone, having been caught lying about his own discussion of sanctions with the Russian ambassador. But the proposal, a peace plan for Ukraine and Russia, remains, along with those pushing it: Michael D. Cohen, the president‚Äôs personal lawyer, who delivered the document Felix H. Sater, a business associate who helped Mr. Trump scout deals in Russia and a Ukrainian lawmaker trying to rise in a political opposition movement shaped in part by Mr. Trump‚Äôs former campaign manager Paul Manafort. At a time when Mr. Trump‚Äôs ties to Russia, and the people connected to him, are under heightened scrutiny  ‚Äî   with investigations by American intelligence agencies, the F. B. I. and Congress  ‚Äî   some of his associates remain willing and eager to wade into   efforts behind the scenes. Mr. Trump has confounded Democrats and Republicans alike with his repeated praise for the Russian president, Vladimir V. Putin, and his desire to forge an   alliance. While there is nothing illegal about such unofficial efforts, a proposal that seems to tip toward Russian interests may set off alarms. The amateur diplomats say their goal is simply to help settle a grueling,   conflict that has cost 10, 000 lives. ‚ÄúWho doesn‚Äôt want to help bring about peace?‚Äù Mr. Cohen asked. But the proposal contains more than just a peace plan. Andrii V. Artemenko, the Ukrainian lawmaker, who sees himself as a   leader of a future Ukraine, claims to have evidence  ‚Äî   ‚Äúnames of companies, wire transfers‚Äù  ‚Äî   showing corruption by the Ukrainian president, Petro O. Poroshenko, that could help oust him. And Mr. Artemenko said he had received encouragement for his plans from top aides to Mr. Putin. ‚ÄúA lot of people will call me a Russian agent, a U. S. agent, a C. I. A. agent,‚Äù Mr. Artemenko said. ‚ÄúBut how can you find a good solution between our countries if we do not talk?‚Äù Mr. Cohen and Mr. Sater said they had not spoken to Mr. Trump about the proposal, and have no experience in foreign policy. Mr. Cohen is one of several Trump associates under scrutiny in an F. B. I. counterintelligence examination of links with Russia, according to law enforcement officials he has denied any illicit connections. The two others involved in the effort have somewhat questionable pasts: Mr. Sater, 50, a   pleaded guilty to a role in a stock manipulation scheme decades ago that involved the Mafia. Mr. Artemenko spent two and a half years in jail in Kiev in the early 2000s on embezzlement charges, later dropped, which he said had been politically motivated. While it is unclear if the White House will take the proposal seriously, the diplomatic freelancing has infuriated Ukrainian officials. Ukraine‚Äôs ambassador to the United States, Valeriy Chaly, said Mr. Artemenko ‚Äúis not entitled to present any alternative peace plans on behalf of Ukraine to any foreign government, including the U. S. administration. ‚Äù At a security conference in Munich on Friday, Mr. Poroshenko warned the West against ‚Äúappeasement‚Äù of Russia, and some American experts say offering Russia any alternative to a    international agreement on Ukraine would be a mistake. The Trump administration has sent mixed signals about the conflict in Ukraine. But given Mr. Trump‚Äôs praise for Mr. Putin, John Herbst, a former American ambassador to Ukraine, said he feared the new president might be too eager to mend relations with Russia at Ukraine‚Äôs expense  ‚Äî   potentially with a plan like Mr. Artemenko‚Äôs. It was late January when the three men associated with the proposed plan converged on the Loews Regency, a luxury hotel on Park Avenue in Manhattan where business deals are made in a lobby furnished with leather couches, over martinis at the restaurant bar and in private conference rooms on upper floors. Mr. Cohen, 50, lives two blocks up the street, in Trump Park Avenue. A lawyer who joined the Trump Organization in 2007 as special counsel, he has worked on many deals, including a   tower in the republic of Georgia and a   mixed martial arts venture starring a Russian fighter. He is considered a loyal lieutenant whom Mr. Trump trusts to fix difficult problems. The F. B. I. is reviewing an unverified dossier, compiled by a former British intelligence agent and funded by Mr. Trump‚Äôs political opponents, that claims Mr. Cohen met with a Russian representative in Prague during the presidential campaign to discuss Russia‚Äôs hacking of Democratic targets. But the Russian official named in the report told The New York Times that he had never met Mr. Cohen. Mr. Cohen insists that he has never visited Prague and that the dossier‚Äôs assertions are fabrications. (Mr. Manafort is also under investigation by the F. B. I. for his connections to Russia and Ukraine.) Mr. Cohen has a personal connection to Ukraine: He is married to a Ukrainian woman and once worked with relatives there to establish an ethanol business. Mr. Artemenko, tall and burly, arrived at the Manhattan hotel between visits to Washington. (His wife, he said, met the first lady, Melania Trump, years ago during their modeling careers, but he did not try to meet Mr. Trump.) He had attended the inauguration and visited Congress, posting on Facebook his admiration for Mr. Trump and talking up his peace plan in meetings with American lawmakers. He entered Parliament in 2014, the year that the former Ukrainian president Viktor Yanukovych fled to Moscow amid protests over his economic alignment with Russia and corruption. Mr. Manafort, who had been instrumental in getting Mr. Yanukovych elected, helped shape a political bloc that sprang up to oppose the new president, Mr. Poroshenko, a wealthy businessman who has taken a far tougher stance toward Russia and accused Mr. Putin of wanting to absorb Ukraine into a new Russian Empire. Mr. Artemenko, 48, emerged from the opposition that Mr. Manafort nurtured. (The two men have never met, Mr. Artemenko said.) Before entering politics, Mr. Artemenko had business ventures in the Middle East and real estate deals in the Miami area, and had worked as an agent representing top Ukrainian athletes. Some colleagues in Parliament describe him as corrupt, untrustworthy or simply insignificant, but he appears to have amassed considerable wealth. He has fashioned himself in the image of Mr. Trump, presenting himself as Ukraine‚Äôs answer to a rising class of nationalist leaders in the West. He even traveled to Cleveland last summer for the Republican National Convention, seizing on the chance to meet with members of Mr. Trump‚Äôs campaign. ‚ÄúIt‚Äôs time for new leaders, new approaches to the governance of the country, new principles and new negotiators in international politics,‚Äù he wrote on Facebook on Jan. 27. ‚ÄúOur time has come!‚Äù Mr. Artemenko said he saw in Mr. Trump an opportunity to advocate a plan for peace in Ukraine  ‚Äî   and help advance his own political career. Essentially, his plan would require the withdrawal of all Russian forces from eastern Ukraine. Ukrainian voters would decide in a referendum whether Crimea, the Ukrainian territory seized by Russia in 2014, would be leased to Russia for a term of 50 or 100 years. The Ukrainian ambassador, Mr. Chaly, rejected a lease of that kind. ‚ÄúIt is a gross violation of the Constitution,‚Äù he said in written answers to questions from The Times. ‚ÄúSuch ideas can be pitched or pushed through only by those openly or covertly representing Russian interests. ‚Äù The reaction suggested why Mr. Artemenko‚Äôs project also includes the dissemination of ‚Äúkompromat,‚Äù or compromising material, purportedly showing that Mr. Poroshenko and his closest associates are corrupt. Only a new government, presumably one less hostile to Russia, might take up his plan. Mr. Sater, a longtime business associate of Mr. Trump‚Äôs with connections in Russia, was willing to help Mr. Artemenko‚Äôs proposal reach the White House. Mr. Trump has sought to distance himself from Mr. Sater in recent years. If Mr. Sater ‚Äúwere sitting in the room right now,‚Äù Mr. Trump said in a 2013 deposition, ‚ÄúI really wouldn‚Äôt know what he looked like. ‚Äù But Mr. Sater worked on real estate development deals with the Trump Organization on and off for at least a decade, even after his role in the stock manipulation scheme came to light. Mr. Sater, who was born in the Soviet Union and grew up in New York, served as an executive at a firm called Bayrock Group, two floors below the Trump Organization in Trump Tower, and was later a senior adviser to Mr. Trump. He said he had been working on a plan for a Trump Tower in Moscow with a Russian real estate developer as recently as the fall of 2015, one that he said had come to a halt because of Mr. Trump‚Äôs presidential campaign. (Mr. Cohen said the Trump Organization had received a letter of intent for a project in Moscow from a Russian real estate developer at that time but determined that the project was not feasible.) Mr. Artemenko said a mutual friend had put him in touch with Mr. Sater. Helping to advance the proposal, Mr. Sater said, made sense. ‚ÄúI want to stop a war, number one,‚Äù he said. ‚ÄúNumber two, I absolutely believe that the U. S. and Russia need to be allies, not enemies. If I could achieve both in one stroke, it would be a home run. ‚Äù After speaking with Mr. Sater and Mr. Artemenko in person, Mr. Cohen said he would deliver the plan to the White House. Mr. Cohen said he did not know who in the Russian government had offered encouragement on it, as Mr. Artemenko claims, but he understood there was a promise of proof of corruption by the Ukrainian president. ‚ÄúFraud is never good, right?‚Äù Mr. Cohen said. He said Mr. Sater had given him the written proposal in a sealed envelope. When Mr. Cohen met with Mr. Trump in the Oval Office in early February, he said, he left the proposal in Mr. Flynn‚Äôs office. Mr. Cohen said he was waiting for a response when Mr. Flynn was forced from his post. Now Mr. Cohen, Mr. Sater and Mr. Artemenko are hoping a new national security adviser will take up their cause. On Friday the president wrote on Twitter that he had four new candidates for the job.\"\"\""
      ]
    },
    {
      "cell_type": "code",
      "execution_count": null,
      "metadata": {
        "colab": {
          "base_uri": "https://localhost:8080/"
        },
        "id": "QjsX0lEQ9ac2",
        "outputId": "c4a32f07-c60b-4e77-f992-39c40e148c67"
      },
      "outputs": [
        {
          "output_type": "stream",
          "name": "stdout",
          "text": [
            "<class 'scipy.sparse.csr.csr_matrix'>\n"
          ]
        }
      ],
      "source": [
        "print(type(X))\n"
      ]
    },
    {
      "cell_type": "markdown",
      "source": [
        "# Testing Input Data\n",
        "\n",
        "In order to test the input data, we need to do the following:\n",
        "1. Stem the test string in the same way we did with the training data.\n",
        "2. Create a list (or other Iterable) version of the stemmed string.\n",
        "3. Transform the data using the TF-IDF vectorizer that was fitted to the training data. This will create a matrix of the correct dimensions.\n",
        "4. We can predict using whatever model we want that was trained on our training data and it (should) correctly classify text."
      ],
      "metadata": {
        "id": "2lppoRlQV_mg"
      }
    },
    {
      "cell_type": "code",
      "source": [
        "stemmed_string_3 = [stemming(test_string_3)]\n",
        "vectorized_test_string_3 = vectorizer.transform(stemmed_string_3)"
      ],
      "metadata": {
        "id": "2w5mmf0eT-ZO"
      },
      "execution_count": null,
      "outputs": []
    },
    {
      "cell_type": "code",
      "source": [
        "import numpy as np \n",
        "prediction = np.argmax(model.predict_proba(vectorized_test_string_3))\n",
        "print(prediction)"
      ],
      "metadata": {
        "id": "6Ma1VaelVZMr",
        "outputId": "15412c71-9894-4e43-d86b-f5a92ad058f5",
        "colab": {
          "base_uri": "https://localhost:8080/"
        }
      },
      "execution_count": null,
      "outputs": [
        {
          "output_type": "stream",
          "name": "stdout",
          "text": [
            "1\n"
          ]
        }
      ]
    },
    {
      "cell_type": "markdown",
      "source": [
        "# Predicting the Test Data\n",
        "Using the test data from the dataset, we can test how well our model is performing."
      ],
      "metadata": {
        "id": "1mWPTf8Bdwxi"
      }
    },
    {
      "cell_type": "code",
      "source": [
        "test_df = pd.read_csv('drive/My Drive/Fake News Detection/test.csv')"
      ],
      "metadata": {
        "id": "NRPHK5trd_PP"
      },
      "execution_count": null,
      "outputs": []
    },
    {
      "cell_type": "code",
      "source": [
        "test_df.fillna('pad', inplace=True)"
      ],
      "metadata": {
        "id": "9pUeFudBePPK"
      },
      "execution_count": null,
      "outputs": []
    },
    {
      "cell_type": "code",
      "source": [
        "test_df['text'] = test_df['text'].apply(stemming)"
      ],
      "metadata": {
        "id": "84Z05rwfe9np"
      },
      "execution_count": null,
      "outputs": []
    },
    {
      "cell_type": "code",
      "source": [
        "Xtest = list(test_df['text'].values)"
      ],
      "metadata": {
        "id": "FKOTm4t5fPgX"
      },
      "execution_count": null,
      "outputs": []
    },
    {
      "cell_type": "code",
      "source": [
        "xtest = vectorizer.transform(Xtest)\n",
        "y_pred = model.predict(xtest)"
      ],
      "metadata": {
        "id": "VmCyUp_Hhu3e"
      },
      "execution_count": null,
      "outputs": []
    },
    {
      "cell_type": "markdown",
      "source": [
        "# Creating the submission file\n",
        "We can create the submission file by combining the id from the test file and the predictions into a single dataframe."
      ],
      "metadata": {
        "id": "6H0_y5BIh9ob"
      }
    },
    {
      "cell_type": "code",
      "source": [
        "submission_df = pd.DataFrame({\"id\": test_df[\"id\"],\"label\": y_pred})\n",
        "submission_df.to_csv(\"submission.csv\", index=False)\n",
        "submission_df.head()"
      ],
      "metadata": {
        "colab": {
          "base_uri": "https://localhost:8080/",
          "height": 206
        },
        "id": "Hyq_V5DyiMbN",
        "outputId": "d6cb681a-bd5f-4127-f7c7-de28ef901387"
      },
      "execution_count": null,
      "outputs": [
        {
          "output_type": "execute_result",
          "data": {
            "text/plain": [
              "      id  label\n",
              "0  20800      1\n",
              "1  20801      1\n",
              "2  20802      1\n",
              "3  20803      1\n",
              "4  20804      1"
            ],
            "text/html": [
              "\n",
              "  <div id=\"df-5dbcf717-9da0-41c9-84c0-4b8475a0499b\">\n",
              "    <div class=\"colab-df-container\">\n",
              "      <div>\n",
              "<style scoped>\n",
              "    .dataframe tbody tr th:only-of-type {\n",
              "        vertical-align: middle;\n",
              "    }\n",
              "\n",
              "    .dataframe tbody tr th {\n",
              "        vertical-align: top;\n",
              "    }\n",
              "\n",
              "    .dataframe thead th {\n",
              "        text-align: right;\n",
              "    }\n",
              "</style>\n",
              "<table border=\"1\" class=\"dataframe\">\n",
              "  <thead>\n",
              "    <tr style=\"text-align: right;\">\n",
              "      <th></th>\n",
              "      <th>id</th>\n",
              "      <th>label</th>\n",
              "    </tr>\n",
              "  </thead>\n",
              "  <tbody>\n",
              "    <tr>\n",
              "      <th>0</th>\n",
              "      <td>20800</td>\n",
              "      <td>1</td>\n",
              "    </tr>\n",
              "    <tr>\n",
              "      <th>1</th>\n",
              "      <td>20801</td>\n",
              "      <td>1</td>\n",
              "    </tr>\n",
              "    <tr>\n",
              "      <th>2</th>\n",
              "      <td>20802</td>\n",
              "      <td>1</td>\n",
              "    </tr>\n",
              "    <tr>\n",
              "      <th>3</th>\n",
              "      <td>20803</td>\n",
              "      <td>1</td>\n",
              "    </tr>\n",
              "    <tr>\n",
              "      <th>4</th>\n",
              "      <td>20804</td>\n",
              "      <td>1</td>\n",
              "    </tr>\n",
              "  </tbody>\n",
              "</table>\n",
              "</div>\n",
              "      <button class=\"colab-df-convert\" onclick=\"convertToInteractive('df-5dbcf717-9da0-41c9-84c0-4b8475a0499b')\"\n",
              "              title=\"Convert this dataframe to an interactive table.\"\n",
              "              style=\"display:none;\">\n",
              "        \n",
              "  <svg xmlns=\"http://www.w3.org/2000/svg\" height=\"24px\"viewBox=\"0 0 24 24\"\n",
              "       width=\"24px\">\n",
              "    <path d=\"M0 0h24v24H0V0z\" fill=\"none\"/>\n",
              "    <path d=\"M18.56 5.44l.94 2.06.94-2.06 2.06-.94-2.06-.94-.94-2.06-.94 2.06-2.06.94zm-11 1L8.5 8.5l.94-2.06 2.06-.94-2.06-.94L8.5 2.5l-.94 2.06-2.06.94zm10 10l.94 2.06.94-2.06 2.06-.94-2.06-.94-.94-2.06-.94 2.06-2.06.94z\"/><path d=\"M17.41 7.96l-1.37-1.37c-.4-.4-.92-.59-1.43-.59-.52 0-1.04.2-1.43.59L10.3 9.45l-7.72 7.72c-.78.78-.78 2.05 0 2.83L4 21.41c.39.39.9.59 1.41.59.51 0 1.02-.2 1.41-.59l7.78-7.78 2.81-2.81c.8-.78.8-2.07 0-2.86zM5.41 20L4 18.59l7.72-7.72 1.47 1.35L5.41 20z\"/>\n",
              "  </svg>\n",
              "      </button>\n",
              "      \n",
              "  <style>\n",
              "    .colab-df-container {\n",
              "      display:flex;\n",
              "      flex-wrap:wrap;\n",
              "      gap: 12px;\n",
              "    }\n",
              "\n",
              "    .colab-df-convert {\n",
              "      background-color: #E8F0FE;\n",
              "      border: none;\n",
              "      border-radius: 50%;\n",
              "      cursor: pointer;\n",
              "      display: none;\n",
              "      fill: #1967D2;\n",
              "      height: 32px;\n",
              "      padding: 0 0 0 0;\n",
              "      width: 32px;\n",
              "    }\n",
              "\n",
              "    .colab-df-convert:hover {\n",
              "      background-color: #E2EBFA;\n",
              "      box-shadow: 0px 1px 2px rgba(60, 64, 67, 0.3), 0px 1px 3px 1px rgba(60, 64, 67, 0.15);\n",
              "      fill: #174EA6;\n",
              "    }\n",
              "\n",
              "    [theme=dark] .colab-df-convert {\n",
              "      background-color: #3B4455;\n",
              "      fill: #D2E3FC;\n",
              "    }\n",
              "\n",
              "    [theme=dark] .colab-df-convert:hover {\n",
              "      background-color: #434B5C;\n",
              "      box-shadow: 0px 1px 3px 1px rgba(0, 0, 0, 0.15);\n",
              "      filter: drop-shadow(0px 1px 2px rgba(0, 0, 0, 0.3));\n",
              "      fill: #FFFFFF;\n",
              "    }\n",
              "  </style>\n",
              "\n",
              "      <script>\n",
              "        const buttonEl =\n",
              "          document.querySelector('#df-5dbcf717-9da0-41c9-84c0-4b8475a0499b button.colab-df-convert');\n",
              "        buttonEl.style.display =\n",
              "          google.colab.kernel.accessAllowed ? 'block' : 'none';\n",
              "\n",
              "        async function convertToInteractive(key) {\n",
              "          const element = document.querySelector('#df-5dbcf717-9da0-41c9-84c0-4b8475a0499b');\n",
              "          const dataTable =\n",
              "            await google.colab.kernel.invokeFunction('convertToInteractive',\n",
              "                                                     [key], {});\n",
              "          if (!dataTable) return;\n",
              "\n",
              "          const docLinkHtml = 'Like what you see? Visit the ' +\n",
              "            '<a target=\"_blank\" href=https://colab.research.google.com/notebooks/data_table.ipynb>data table notebook</a>'\n",
              "            + ' to learn more about interactive tables.';\n",
              "          element.innerHTML = '';\n",
              "          dataTable['output_type'] = 'display_data';\n",
              "          await google.colab.output.renderOutput(dataTable, element);\n",
              "          const docLink = document.createElement('div');\n",
              "          docLink.innerHTML = docLinkHtml;\n",
              "          element.appendChild(docLink);\n",
              "        }\n",
              "      </script>\n",
              "    </div>\n",
              "  </div>\n",
              "  "
            ]
          },
          "metadata": {},
          "execution_count": 40
        }
      ]
    },
    {
      "cell_type": "code",
      "execution_count": null,
      "metadata": {
        "colab": {
          "base_uri": "https://localhost:8080/"
        },
        "id": "ZP6n7-d0qGQ4",
        "outputId": "3a0ee949-d135-488e-e9eb-c5d59f37563e"
      },
      "outputs": [
        {
          "output_type": "stream",
          "name": "stdout",
          "text": [
            "1\n"
          ]
        }
      ],
      "source": [
        "import numpy as np\n",
        "stemmed_string_3 = [stemming(test_string_3)]\n",
        "vectorized_test_string_3 = vectorizer.transform(stemmed_string_3)\n",
        "prediction = np.argmax(model.predict_proba(vectorized_test_string_3))\n",
        "print(prediction)\n"
      ]
    },
    {
      "cell_type": "code",
      "execution_count": null,
      "metadata": {
        "colab": {
          "base_uri": "https://localhost:8080/"
        },
        "id": "9ABq8PmquCIC",
        "outputId": "a68400e1-aadd-49b8-bdb7-b552cadf6009"
      },
      "outputs": [
        {
          "output_type": "stream",
          "name": "stdout",
          "text": [
            "Collecting flask_ngrok\n",
            "  Downloading flask_ngrok-0.0.25-py3-none-any.whl (3.1 kB)\n",
            "Requirement already satisfied: requests in /usr/local/lib/python3.7/dist-packages (from flask_ngrok) (2.23.0)\n",
            "Requirement already satisfied: Flask>=0.8 in /usr/local/lib/python3.7/dist-packages (from flask_ngrok) (1.1.4)\n",
            "Requirement already satisfied: Werkzeug<2.0,>=0.15 in /usr/local/lib/python3.7/dist-packages (from Flask>=0.8->flask_ngrok) (1.0.1)\n",
            "Requirement already satisfied: itsdangerous<2.0,>=0.24 in /usr/local/lib/python3.7/dist-packages (from Flask>=0.8->flask_ngrok) (1.1.0)\n",
            "Requirement already satisfied: Jinja2<3.0,>=2.10.1 in /usr/local/lib/python3.7/dist-packages (from Flask>=0.8->flask_ngrok) (2.11.3)\n",
            "Requirement already satisfied: click<8.0,>=5.1 in /usr/local/lib/python3.7/dist-packages (from Flask>=0.8->flask_ngrok) (7.1.2)\n",
            "Requirement already satisfied: MarkupSafe>=0.23 in /usr/local/lib/python3.7/dist-packages (from Jinja2<3.0,>=2.10.1->Flask>=0.8->flask_ngrok) (2.0.1)\n",
            "Requirement already satisfied: idna<3,>=2.5 in /usr/local/lib/python3.7/dist-packages (from requests->flask_ngrok) (2.10)\n",
            "Requirement already satisfied: chardet<4,>=3.0.2 in /usr/local/lib/python3.7/dist-packages (from requests->flask_ngrok) (3.0.4)\n",
            "Requirement already satisfied: urllib3!=1.25.0,!=1.25.1,<1.26,>=1.21.1 in /usr/local/lib/python3.7/dist-packages (from requests->flask_ngrok) (1.24.3)\n",
            "Requirement already satisfied: certifi>=2017.4.17 in /usr/local/lib/python3.7/dist-packages (from requests->flask_ngrok) (2021.10.8)\n",
            "Installing collected packages: flask-ngrok\n",
            "Successfully installed flask-ngrok-0.0.25\n",
            "Collecting flask_cors\n",
            "  Downloading Flask_Cors-3.0.10-py2.py3-none-any.whl (14 kB)\n",
            "Requirement already satisfied: Flask>=0.9 in /usr/local/lib/python3.7/dist-packages (from flask_cors) (1.1.4)\n",
            "Requirement already satisfied: Six in /usr/local/lib/python3.7/dist-packages (from flask_cors) (1.15.0)\n",
            "Requirement already satisfied: Jinja2<3.0,>=2.10.1 in /usr/local/lib/python3.7/dist-packages (from Flask>=0.9->flask_cors) (2.11.3)\n",
            "Requirement already satisfied: Werkzeug<2.0,>=0.15 in /usr/local/lib/python3.7/dist-packages (from Flask>=0.9->flask_cors) (1.0.1)\n",
            "Requirement already satisfied: itsdangerous<2.0,>=0.24 in /usr/local/lib/python3.7/dist-packages (from Flask>=0.9->flask_cors) (1.1.0)\n",
            "Requirement already satisfied: click<8.0,>=5.1 in /usr/local/lib/python3.7/dist-packages (from Flask>=0.9->flask_cors) (7.1.2)\n",
            "Requirement already satisfied: MarkupSafe>=0.23 in /usr/local/lib/python3.7/dist-packages (from Jinja2<3.0,>=2.10.1->Flask>=0.9->flask_cors) (2.0.1)\n",
            "Installing collected packages: flask-cors\n",
            "Successfully installed flask-cors-3.0.10\n"
          ]
        }
      ],
      "source": [
        "!pip install flask_ngrok\n",
        "!pip install flask_cors"
      ]
    },
    {
      "cell_type": "code",
      "execution_count": null,
      "metadata": {
        "colab": {
          "base_uri": "https://localhost:8080/"
        },
        "id": "GTtHUbGyrism",
        "outputId": "2a3fa57d-b724-4d92-c7fe-5eb58ff2d0fe"
      },
      "outputs": [
        {
          "output_type": "stream",
          "name": "stdout",
          "text": [
            " * Serving Flask app \"__main__\" (lazy loading)\n",
            " * Environment: production\n",
            "\u001b[31m   WARNING: This is a development server. Do not use it in a production deployment.\u001b[0m\n",
            "\u001b[2m   Use a production WSGI server instead.\u001b[0m\n",
            " * Debug mode: off\n"
          ]
        },
        {
          "output_type": "stream",
          "name": "stderr",
          "text": [
            " * Running on http://127.0.0.1:5000/ (Press CTRL+C to quit)\n"
          ]
        },
        {
          "output_type": "stream",
          "name": "stdout",
          "text": [
            " * Running on http://e9aa-34-147-97-121.ngrok.io\n",
            " * Traffic stats available on http://127.0.0.1:4040\n"
          ]
        },
        {
          "output_type": "stream",
          "name": "stderr",
          "text": [
            "127.0.0.1 - - [05/May/2022 21:59:15] \"\u001b[37mPOST / HTTP/1.1\u001b[0m\" 200 -\n"
          ]
        },
        {
          "output_type": "stream",
          "name": "stdout",
          "text": [
            "In these trying times, Jackie Mason is the Voice of Reason. [In this weekâ€™s exclusive clip for Breitbart News, Jackie discusses the looming threat of North Korea, and explains how President Donald Trump could win the support of the Hollywood left if the U. S. needs to strike first.  â€œIf he decides to bomb them, the whole country will be behind him, because everybody will realize he had no choice and that was the only thing to do,â€ Jackie says. â€œExcept the Hollywood left. Theyâ€™ll get nauseous. â€ â€œ[Trump] could win the left over, theyâ€™ll fall in love with him in a minute. If he bombed them for a better reason,â€ Jackie explains. â€œLike if they have no transgender toilets. â€ Jackie also says itâ€™s no surprise that Hollywood celebrities didnâ€™t support Trumpâ€™s strike on a Syrian airfield this month. â€œThey were infuriated,â€ he says. â€œBecause it might only save lives. That doesnâ€™t mean anything to them. If it only saved the environment, or climate change! Theyâ€™d be the happiest people in the world. â€ Still, Jackie says heâ€™s got nothing against Hollywood celebs. Theyâ€™ve got a tough life in this country. Watch Jackieâ€™s latest clip above.   Follow Daniel Nussbaum on Twitter: @dznussbaum\"\"\"\n",
            "0\n"
          ]
        },
        {
          "output_type": "stream",
          "name": "stderr",
          "text": [
            "127.0.0.1 - - [05/May/2022 21:59:35] \"\u001b[37mPOST / HTTP/1.1\u001b[0m\" 200 -\n"
          ]
        },
        {
          "output_type": "stream",
          "name": "stdout",
          "text": [
            "The mystery surrounding The Third Reich and Nazi Germany is still a subject of debate between many observers. Some believe that Nazi Germany, under the control of Adolf Hitler, possessed supernatural powers, and largely employed pseudo-science during the 1933-1945 period. However, some also hold that the above belief is just a mere speculation without any proven fact. Over the years, researchers have searched extensively for answers to some of the more mysterious activities associated with Nazi Germany.\n",
            "Nazi Germany invaded Russia (formerly the USSR) during the Second World War on June 22, 1941. At the time, the German army progressed deep into Russian territory, gaining ground close to the capital Moscow, before the Russians could counter-attack, eventually driving the Nazis back.\n",
            "During the Nazi occupation in Russia, in 1942, the Nazis built a secret military base around the Arctic, code-named â€œSchatzgraberâ€ or â€œTreasure Hunter,â€ which was reportedly very instrumental in the war against Russia. The base was primarily used as a tactical weather station for planning the strategic movements of Nazi troops, warships and submarines. The base also housed eminent Nazi scientists, whom conducted many experiments to help progress a German win of the war. It was widely speculated at the time that the Nazis used the base to contact aliens or extraterrestrial beings. The controversial Ahnenerbe was even linked to the base. The Ahnenerbe was an institute in Nazi Germany. Responsible for researching archaeological and cultural history of the Aryan race, it is rumored to have had heavy occult influences. Founded on July 1, 1935, by Heinrich Himmler, Herman Wirth and Richard Walther DarrÃ©, the Ahnenerbe later conducted experiments and launched expeditions in attempts to prove that mythological Nordic populations had once ruled the world.\n",
            "However, the Nazis abandoned the base in 1944 â€“ a time when the Russian army began its offensive, pushing the Germans out of the country. According to a war-time story, supplies had dwindled to dangerously low levels, and the Nazi officers stationed at the base outpost were forced to kill and eat polar bear, which ultimately, was infected with trichinosis. This caused those stationed at the base to fall severely ill and eventually they required rescue by a German U-boat. Despite Russian authors telling the story of â€œTreasure Hunter,â€ some observers consider it a myth, doubting its existence.\n",
            "But Russian researchers have now announced that â€œTreasure Hunterâ€ has been discovered, saying the base is on the island of Alexandra Land in the Arctic Circle, located 620 miles from the North Pole.\n",
            "A senior researcher at the Russian Arctic National Park, Evgeny Ermolov said in a statement announcing the discovery : â€œBefore it was only known from written sources, but now we also have real proof\n",
            "1\n"
          ]
        },
        {
          "output_type": "stream",
          "name": "stderr",
          "text": [
            "127.0.0.1 - - [05/May/2022 22:15:18] \"\u001b[37mPOST / HTTP/1.1\u001b[0m\" 200 -\n"
          ]
        },
        {
          "output_type": "stream",
          "name": "stdout",
          "text": [
            "In these trying times, Jackie Mason is the Voice of Reason. [In this weekâ€™s exclusive clip for Breitbart News, Jackie discusses the looming threat of North Korea, and explains how President Donald Trump could win the support of the Hollywood left if the U. S. needs to strike first.  â€œIf he decides to bomb them, the whole country will be behind him, because everybody will realize he had no choice and that was the only thing to do,â€ Jackie says. â€œExcept the Hollywood left. Theyâ€™ll get nauseous. â€ â€œ[Trump] could win the left over, theyâ€™ll fall in love with him in a minute. If he bombed them for a better reason,â€ Jackie explains. â€œLike if they have no transgender toilets. â€ Jackie also says itâ€™s no surprise that Hollywood celebrities didnâ€™t support Trumpâ€™s strike on a Syrian airfield this month. â€œThey were infuriated,â€ he says. â€œBecause it might only save lives. That doesnâ€™t mean anything to them. If it only saved the environment, or climate change! Theyâ€™d be the happiest people in the world. â€ Still, Jackie says heâ€™s got nothing against Hollywood celebs. Theyâ€™ve got a tough life in this country. Watch Jackieâ€™s latest clip above.   Follow Daniel Nussbaum on Twitter: @dznussbaum\"\"\"\n",
            "0\n"
          ]
        },
        {
          "output_type": "stream",
          "name": "stderr",
          "text": [
            "127.0.0.1 - - [05/May/2022 22:15:44] \"\u001b[37mPOST / HTTP/1.1\u001b[0m\" 200 -\n"
          ]
        },
        {
          "output_type": "stream",
          "name": "stdout",
          "text": [
            "The mystery surrounding The Third Reich and Nazi Germany is still a subject of debate between many observers. Some believe that Nazi Germany, under the control of Adolf Hitler, possessed supernatural powers, and largely employed pseudo-science during the 1933-1945 period. However, some also hold that the above belief is just a mere speculation without any proven fact. Over the years, researchers have searched extensively for answers to some of the more mysterious activities associated with Nazi Germany.\n",
            "Nazi Germany invaded Russia (formerly the USSR) during the Second World War on June 22, 1941. At the time, the German army progressed deep into Russian territory, gaining ground close to the capital Moscow, before the Russians could counter-attack, eventually driving the Nazis back.\n",
            "During the Nazi occupation in Russia, in 1942, the Nazis built a secret military base around the Arctic, code-named â€œSchatzgraberâ€ or â€œTreasure Hunter,â€ which was reportedly very instrumental in the war against Russia. The base was primarily used as a tactical weather station for planning the strategic movements of Nazi troops, warships and submarines. The base also housed eminent Nazi scientists, whom conducted many experiments to help progress a German win of the war. It was widely speculated at the time that the Nazis used the base to contact aliens or extraterrestrial beings. The controversial Ahnenerbe was even linked to the base. The Ahnenerbe was an institute in Nazi Germany. Responsible for researching archaeological and cultural history of the Aryan race, it is rumored to have had heavy occult influences. Founded on July 1, 1935, by Heinrich Himmler, Herman Wirth and Richard Walther DarrÃ©, the Ahnenerbe later conducted experiments and launched expeditions in attempts to prove that mythological Nordic populations had once ruled the world.\n",
            "However, the Nazis abandoned the base in 1944 â€“ a time when the Russian army began its offensive, pushing the Germans out of the country. According to a war-time story, supplies had dwindled to dangerously low levels, and the Nazi officers stationed at the base outpost were forced to kill and eat polar bear, which ultimately, was infected with trichinosis. This caused those stationed at the base to fall severely ill and eventually they required rescue by a German U-boat. Despite Russian authors telling the story of â€œTreasure Hunter,â€ some observers consider it a myth, doubting its existence.\n",
            "But Russian researchers have now announced that â€œTreasure Hunterâ€ has been discovered, saying the base is on the island of Alexandra Land in the Arctic Circle, located 620 miles from the North Pole.\n",
            "A senior researcher at the Russian Arctic National Park, Evgeny Ermolov said in a statement announcing the discovery : â€œBefore it was only known from written sources, but now we also have real proof.â€\n",
            "1\n"
          ]
        }
      ],
      "source": [
        "from flask import Flask, jsonify, request\n",
        "from flask_ngrok import run_with_ngrok\n",
        "from flask_cors import CORS, cross_origin\n",
        "from flask import jsonify\n",
        "import json\n",
        "\n",
        "app = Flask(__name__)\n",
        "cors = CORS(app)\n",
        "app.config['CORS_HEADERS'] = 'Content-Type'\n",
        "\n",
        "run_with_ngrok(app)\n",
        "\n",
        "@cross_origin()\n",
        "@app.route('/', methods=['POST'])\n",
        "def detect_fake_news():\n",
        "  t = request.get_data()\n",
        "  new_str = t.decode('utf-8')\n",
        "  # print(new_str)\n",
        "  data = json.loads(new_str)\n",
        "  # print(data)\n",
        "  test_string = data['input']\n",
        "  print(test_string)\n",
        "  #new changes start\n",
        "  stemmed_string = [stemming(test_string)]\n",
        "  vectorized_test_string = vectorizer.transform(stemmed_string)\n",
        "  prediction = np.argmax(model.predict_proba(vectorized_test_string))\n",
        "  print(prediction)\n",
        "  response = {\"predictions\": str(prediction)}\n",
        "  return response\n",
        "\n",
        "if __name__ == \"__main__\":\n",
        "  app.run()\n",
        "  #new changes end\n"
      ]
    },
    {
      "cell_type": "code",
      "execution_count": null,
      "metadata": {
        "colab": {
          "base_uri": "https://localhost:8080/"
        },
        "id": "6J_CRnpaHEc-",
        "outputId": "5b01b875-9e29-4557-dc7c-983baa502f62"
      },
      "outputs": [
        {
          "name": "stdout",
          "output_type": "stream",
          "text": [
            "Accuracy score of the test data :  0.9743589743589743\n"
          ]
        }
      ],
      "source": [
        "print('Accuracy score of the test data : ', test_data_accuracy)"
      ]
    },
    {
      "cell_type": "markdown",
      "metadata": {
        "id": "ov-dA51OHi2y"
      },
      "source": [
        "# Naive Bayes"
      ]
    },
    {
      "cell_type": "code",
      "execution_count": null,
      "metadata": {
        "id": "JcdZ9sSVHGRx"
      },
      "outputs": [],
      "source": [
        "from sklearn.naive_bayes import MultinomialNB"
      ]
    },
    {
      "cell_type": "code",
      "execution_count": null,
      "metadata": {
        "colab": {
          "base_uri": "https://localhost:8080/"
        },
        "id": "BIpUWzr6Hm2h",
        "outputId": "69941204-dbbc-4c4e-df28-3848531c7b70"
      },
      "outputs": [
        {
          "output_type": "execute_result",
          "data": {
            "text/plain": [
              "array([[0.23674193, 0.76325807]])"
            ]
          },
          "metadata": {},
          "execution_count": 43
        }
      ],
      "source": [
        "NB = MultinomialNB()\n",
        "NB.fit(X_train, Y_train)\n",
        "Accuracy = NB.score(X_test, Y_test)\n",
        "NB.predict_proba(vectorized_test_string)"
      ]
    },
    {
      "cell_type": "code",
      "execution_count": null,
      "metadata": {
        "colab": {
          "base_uri": "https://localhost:8080/"
        },
        "id": "pjTuap7CHo2y",
        "outputId": "17ed6884-50b3-4567-d5ae-b4d592a42de9"
      },
      "outputs": [
        {
          "name": "stdout",
          "output_type": "stream",
          "text": [
            "95.14423076923076\n"
          ]
        }
      ],
      "source": [
        "print(Accuracy*100)"
      ]
    },
    {
      "cell_type": "markdown",
      "metadata": {
        "id": "SxhAmhVKIF-n"
      },
      "source": [
        "# Decision Tree Classifier"
      ]
    },
    {
      "cell_type": "code",
      "execution_count": null,
      "metadata": {
        "id": "zh5BhZgtHqYS"
      },
      "outputs": [],
      "source": [
        "from sklearn.tree import DecisionTreeClassifier"
      ]
    },
    {
      "cell_type": "code",
      "execution_count": null,
      "metadata": {
        "id": "RebRzw9kIMoD"
      },
      "outputs": [],
      "source": [
        "clf = DecisionTreeClassifier()\n",
        "clf.fit(X_train, Y_train)\n",
        "Accuracy_clf = clf.score(X_test, Y_test)"
      ]
    },
    {
      "cell_type": "code",
      "execution_count": null,
      "metadata": {
        "colab": {
          "base_uri": "https://localhost:8080/"
        },
        "id": "SJ-goRRnIOyR",
        "outputId": "5fb7b663-d598-4f13-ff1e-75899b8ab0cb"
      },
      "outputs": [
        {
          "output_type": "execute_result",
          "data": {
            "text/plain": [
              "array([[0., 1.]])"
            ]
          },
          "metadata": {},
          "execution_count": 47
        }
      ],
      "source": [
        "clf.predict_proba(vectorized_test_string)"
      ]
    },
    {
      "cell_type": "code",
      "execution_count": null,
      "metadata": {
        "id": "T4JtLu55IQrN"
      },
      "outputs": [],
      "source": [
        ""
      ]
    }
  ],
  "metadata": {
    "colab": {
      "collapsed_sections": [],
      "name": "Copy of Fake News Detection final.ipynb",
      "provenance": []
    },
    "kernelspec": {
      "display_name": "Python 3",
      "name": "python3"
    },
    "language_info": {
      "name": "python"
    }
  },
  "nbformat": 4,
  "nbformat_minor": 0
}